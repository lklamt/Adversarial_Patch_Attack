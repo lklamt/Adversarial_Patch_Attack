{
  "cells": [
    {
      "cell_type": "code",
      "metadata": {},
      "source": [
        "# Adversarial Patch: patch_utils\n",
        "# utils for patch initialization and mask generation\n",
        "# Created by Junbo Zhao 2020/3/19\n",
        "\n",
        "import numpy as np\n",
        "import torch\n",
        "\n",
        "# Initialize the patch\n",
        "# TODO: Add circle type\n",
        "def patch_initialization(patch_type='rectangle', image_size=(3, 224, 224), noise_percentage=0.03):\n",
        "    if patch_type == 'rectangle':\n",
        "        mask_length = int((noise_percentage * image_size[1] * image_size[2])**0.5)\n",
        "        patch = np.random.rand(image_size[0], mask_length, mask_length)\n",
        "    return patch\n",
        "\n",
        "# Generate the mask and apply the patch\n",
        "# TODO: Add circle type\n",
        "def mask_generation(mask_type='rectangle', patch=None, image_size=(3, 224, 224)):\n",
        "    applied_patch = np.zeros(image_size)\n",
        "    if mask_type == 'rectangle':\n",
        "        # patch rotation\n",
        "        rotation_angle = np.random.choice(4)\n",
        "        for i in range(patch.shape[0]):\n",
        "            patch[i] = np.rot90(patch[i], rotation_angle)  # The actual rotation angle is rotation_angle * 90\n",
        "        # patch location\n",
        "        x_location, y_location = np.random.randint(low=0, high=image_size[1]-patch.shape[1]), np.random.randint(low=0, high=image_size[2]-patch.shape[2])\n",
        "        for i in range(patch.shape[0]):\n",
        "            applied_patch[:, x_location:x_location + patch.shape[1], y_location:y_location + patch.shape[2]] = patch\n",
        "    mask = applied_patch.copy()\n",
        "    mask[mask != 0] = 1.0\n",
        "    return applied_patch, mask, x_location, y_location\n",
        "\n",
        "# Test the patch on dataset\n",
        "def test_patch(patch_type, target, patch, test_loader, model):\n",
        "    model.eval()\n",
        "    test_total, test_actual_total, test_success = 0, 0, 0\n",
        "    for (image, label) in test_loader:\n",
        "        test_total += label.shape[0]\n",
        "        assert image.shape[0] == 1, 'Only one picture should be loaded each time.'\n",
        "        image = image.cuda()\n",
        "        label = label.cuda()\n",
        "        output = model(image)\n",
        "        _, predicted = torch.max(output.data, 1)\n",
        "        if predicted[0] != label and predicted[0].data.cpu().numpy() != target:\n",
        "            test_actual_total += 1\n",
        "            applied_patch, mask, x_location, y_location = mask_generation(patch_type, patch, image_size=(3, 224, 224))\n",
        "            applied_patch = torch.from_numpy(applied_patch)\n",
        "            mask = torch.from_numpy(mask)\n",
        "            perturbated_image = torch.mul(mask.type(torch.FloatTensor), applied_patch.type(torch.FloatTensor)) + torch.mul((1 - mask.type(torch.FloatTensor)), image.type(torch.FloatTensor))\n",
        "            perturbated_image = perturbated_image.cuda()\n",
        "            output = model(perturbated_image)\n",
        "            _, predicted = torch.max(output.data, 1)\n",
        "            if predicted[0].data.cpu().numpy() == target:\n",
        "                test_success += 1\n",
        "    return test_success / test_actual_total"
      ],
      "outputs": [],
      "execution_count": null
    }
  ],
  "metadata": {
    "anaconda-cloud": {},
    "kernelspec": {
      "display_name": "Python 3",
      "language": "python",
      "name": "python3"
    },
    "language_info": {
      "codemirror_mode": {
        "name": "ipython",
        "version": 3
      },
      "file_extension": ".py",
      "mimetype": "text/x-python",
      "name": "python",
      "nbconvert_exporter": "python",
      "pygments_lexer": "ipython3",
      "version": "3.6.1"
    }
  },
  "nbformat": 4,
  "nbformat_minor": 4
}